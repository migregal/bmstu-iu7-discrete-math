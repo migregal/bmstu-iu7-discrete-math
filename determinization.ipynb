{
 "cells": [
  {
   "cell_type": "code",
   "execution_count": 52,
   "metadata": {},
   "outputs": [],
   "source": [
    "edges = [\n",
    "    (1, 1, 'a'),\n",
    "    (1, 1, 'b'),\n",
    "    (1, 2, 'a'),\n",
    "    (2, 3, 'b'),\n",
    "    (3, 4, 'a'),\n",
    "    (4, 5, 'b'),\n",
    "    (5, 5, 'a'),\n",
    "    (5, 5, 'b'),\n",
    "    (5, 6, 'a'),\n",
    "    (6, 7, 'b'),\n",
    "    (7, 8, 'a'),\n",
    "    (8, 9, 'b'),\n",
    "    (9, 9, 'a'),\n",
    "    (9, 9, 'b'),\n",
    "]"
   ]
  },
  {
   "cell_type": "code",
   "execution_count": 53,
   "metadata": {},
   "outputs": [],
   "source": [
    "finish = {9,}"
   ]
  },
  {
   "cell_type": "code",
   "execution_count": 54,
   "metadata": {
    "scrolled": true
   },
   "outputs": [],
   "source": [
    "\n",
    "stack = [{1,}]\n",
    "visited = set()\n",
    "h = lambda x: tuple(sorted(list(x)))\n",
    "\n",
    "def toStr(st):\n",
    "    if len(st) == 0:\n",
    "        return \"Ø\"\n",
    "    else:\n",
    "        return \"\\\"\" + str(st) + \"\\\"\"\n",
    "\n",
    "with open(\"./graph2.txt\", \"w\") as fout:\n",
    "    fout.write(\"digraph {\\n\" +\\\n",
    "                \"rankdir=LR\\n\" +\\\n",
    "                \"rankType=sink\\n\" +\\\n",
    "                \"node \" +\\\n",
    "                \"[shape=none margin=0 fontcolor=black fontsize=14 width=0.5]\\n\")\n",
    "\n",
    "    for a in stack:\n",
    "        fout.write(\"start -> \" + toStr(set(a)) + \";\\n\")    \n",
    "        fout.write(\"start [shape=none fontcolor=white];\\n\")  \n",
    "        \n",
    "    while len(stack) > 0:\n",
    "        c = stack.pop()\n",
    "        if h(c) in visited:\n",
    "            continue\n",
    "        \n",
    "        visited.add(h(c))\n",
    "        \n",
    "        next_a = set([j for (i, j, v) in edges if i in c and v == 'a'])\n",
    "        next_b = set([j for (i, j, v) in edges if i in c and v == 'b'])\n",
    "\n",
    "        stack.append(next_b)\n",
    "        stack.append(next_a)\n",
    "    \n",
    "        if (next_a == next_b):\n",
    "            fout.write(toStr(c) + \" -> \" + toStr(next_a) + \" [label=\\\"a,b\\\"];\\n\")    \n",
    "            continue\n",
    "\n",
    "        fout.write(toStr(c) + \" -> \" + toStr(next_a) + \" [label=a];\\n\")        \n",
    "        fout.write(toStr(c) + \" -> \" + toStr(next_b) + \" [label=b];\\n\")\n",
    "\n",
    "    i = 0\n",
    "    for a in visited:\n",
    "        if len(finish & set(a)):\n",
    "            fout.write(toStr(set(a)) + \" -> exit\" + str(i) + \";\\n\")        \n",
    "            fout.write(\"exit\" + str(i) + \" [shape=none fontcolor=white];\\n\")        \n",
    "            i += 1\n",
    "\n",
    "    fout.write(\"}\\n\")\n",
    "\n",
    "    "
   ]
  },
  {
   "cell_type": "code",
   "execution_count": 67,
   "metadata": {},
   "outputs": [
    {
     "output_type": "execute_result",
     "data": {
      "text/plain": [
       "CompletedProcess(args=['dot', '-Tsvg', './graph2.txt', '-o', './graph.svg'], returncode=0)"
      ]
     },
     "metadata": {},
     "execution_count": 67
    }
   ],
   "source": [
    "import subprocess\n",
    "subprocess.run([\"dot\", \"-Tsvg\", \"./graph2.txt\", \"-o\", \"./graph.svg\"])"
   ]
  },
  {
   "cell_type": "code",
   "execution_count": 68,
   "metadata": {},
   "outputs": [
    {
     "output_type": "display_data",
     "data": {
      "text/plain": "<IPython.core.display.SVG object>",
      "image/svg+xml": "<svg xmlns=\"http://www.w3.org/2000/svg\" xmlns:xlink=\"http://www.w3.org/1999/xlink\" width=\"1630pt\" height=\"278pt\" viewBox=\"0.00 0.00 1630.00 278.00\">\n<g id=\"graph0\" class=\"graph\" transform=\"scale(1 1) rotate(0) translate(4 274)\">\n<title>%3</title>\n<polygon fill=\"white\" stroke=\"transparent\" points=\"-4,4 -4,-274 1626,-274 1626,4 -4,4\"/>\n<!-- start -->\n<g id=\"node1\" class=\"node\">\n<title>start</title>\n<text text-anchor=\"middle\" x=\"18\" y=\"-21.3\" font-family=\"Times,serif\" font-size=\"14.00\" fill=\"white\">start</text>\n</g>\n<!-- {1} -->\n<g id=\"node2\" class=\"node\">\n<title>{1}</title>\n<text text-anchor=\"middle\" x=\"91\" y=\"-21.3\" font-family=\"Times,serif\" font-size=\"14.00\">{1}</text>\n</g>\n<!-- start&#45;&gt;{1} -->\n<g id=\"edge1\" class=\"edge\">\n<title>start-&gt;{1}</title>\n<path fill=\"none\" stroke=\"black\" d=\"M36.19,-25C44.21,-25 53.95,-25 62.93,-25\"/>\n<polygon fill=\"black\" stroke=\"black\" points=\"62.97,-28.5 72.97,-25 62.97,-21.5 62.97,-28.5\"/>\n</g>\n<!-- {1}&#45;&gt;{1} -->\n<g id=\"edge3\" class=\"edge\">\n<title>{1}-&gt;{1}</title>\n<path fill=\"none\" stroke=\"black\" d=\"M84.49,-43.15C83.49,-52.54 85.66,-61 91,-61 94.26,-61 96.33,-57.86 97.23,-53.28\"/>\n<polygon fill=\"black\" stroke=\"black\" points=\"100.74,-53.25 97.51,-43.15 93.74,-53.05 100.74,-53.25\"/>\n<text text-anchor=\"middle\" x=\"91\" y=\"-64.8\" font-family=\"Times,serif\" font-size=\"14.00\">b</text>\n</g>\n<!-- {1, 2} -->\n<g id=\"node3\" class=\"node\">\n<title>{1, 2}</title>\n<text text-anchor=\"middle\" x=\"177\" y=\"-56.3\" font-family=\"Times,serif\" font-size=\"14.00\">{1, 2}</text>\n</g>\n<!-- {1}&#45;&gt;{1, 2} -->\n<g id=\"edge2\" class=\"edge\">\n<title>{1}-&gt;{1, 2}</title>\n<path fill=\"none\" stroke=\"black\" d=\"M109.4,-32.25C119.47,-36.44 132.44,-41.85 144.25,-46.77\"/>\n<polygon fill=\"black\" stroke=\"black\" points=\"143.24,-50.14 153.82,-50.76 145.93,-43.68 143.24,-50.14\"/>\n<text text-anchor=\"middle\" x=\"131.5\" y=\"-46.8\" font-family=\"Times,serif\" font-size=\"14.00\">a</text>\n</g>\n<!-- {1, 2}&#45;&gt;{1, 2} -->\n<g id=\"edge4\" class=\"edge\">\n<title>{1, 2}-&gt;{1, 2}</title>\n<path fill=\"none\" stroke=\"black\" d=\"M169.04,-78.15C167.82,-87.54 170.47,-96 177,-96 180.98,-96 183.52,-92.86 184.62,-88.28\"/>\n<polygon fill=\"black\" stroke=\"black\" points=\"188.12,-88.26 184.96,-78.15 181.13,-88.03 188.12,-88.26\"/>\n<text text-anchor=\"middle\" x=\"177\" y=\"-99.8\" font-family=\"Times,serif\" font-size=\"14.00\">a</text>\n</g>\n<!-- {1, 3} -->\n<g id=\"node4\" class=\"node\">\n<title>{1, 3}</title>\n<text text-anchor=\"middle\" x=\"269\" y=\"-14.3\" font-family=\"Times,serif\" font-size=\"14.00\">{1, 3}</text>\n</g>\n<!-- {1, 2}&#45;&gt;{1, 3} -->\n<g id=\"edge5\" class=\"edge\">\n<title>{1, 2}-&gt;{1, 3}</title>\n<path fill=\"none\" stroke=\"black\" d=\"M200.25,-49.62C211.17,-44.52 224.53,-38.29 236.48,-32.71\"/>\n<polygon fill=\"black\" stroke=\"black\" points=\"238.12,-35.81 245.7,-28.41 235.15,-29.47 238.12,-35.81\"/>\n<text text-anchor=\"middle\" x=\"223\" y=\"-44.8\" font-family=\"Times,serif\" font-size=\"14.00\">b</text>\n</g>\n<!-- {1, 3}&#45;&gt;{1} -->\n<g id=\"edge7\" class=\"edge\">\n<title>{1, 3}-&gt;{1}</title>\n<path fill=\"none\" stroke=\"black\" d=\"M245.7,-17.26C222.7,-16.67 185.81,-16.21 154,-18 142.56,-18.64 130,-19.95 119.18,-21.26\"/>\n<polygon fill=\"black\" stroke=\"black\" points=\"118.54,-17.82 109.06,-22.55 119.42,-24.76 118.54,-17.82\"/>\n<text text-anchor=\"middle\" x=\"177\" y=\"-21.8\" font-family=\"Times,serif\" font-size=\"14.00\">b</text>\n</g>\n<!-- {1, 2, 4} -->\n<g id=\"node5\" class=\"node\">\n<title>{1, 2, 4}</title>\n<text text-anchor=\"middle\" x=\"369\" y=\"-41.3\" font-family=\"Times,serif\" font-size=\"14.00\">{1, 2, 4}</text>\n</g>\n<!-- {1, 3}&#45;&gt;{1, 2, 4} -->\n<g id=\"edge6\" class=\"edge\">\n<title>{1, 3}-&gt;{1, 2, 4}</title>\n<path fill=\"none\" stroke=\"black\" d=\"M292.24,-24.13C302.56,-26.97 315.17,-30.45 327.12,-33.74\"/>\n<polygon fill=\"black\" stroke=\"black\" points=\"326.36,-37.16 336.94,-36.44 328.22,-30.41 326.36,-37.16\"/>\n<text text-anchor=\"middle\" x=\"314.5\" y=\"-35.8\" font-family=\"Times,serif\" font-size=\"14.00\">a</text>\n</g>\n<!-- {1, 2, 4}&#45;&gt;{1, 2} -->\n<g id=\"edge8\" class=\"edge\">\n<title>{1, 2, 4}-&gt;{1, 2}</title>\n<path fill=\"none\" stroke=\"black\" d=\"M336.92,-49.02C330.97,-49.73 324.8,-50.42 319,-51 278.64,-55.02 268.49,-55.63 228,-58 222.36,-58.33 216.36,-58.62 210.55,-58.87\"/>\n<polygon fill=\"black\" stroke=\"black\" points=\"210.26,-55.38 200.41,-59.28 210.54,-62.37 210.26,-55.38\"/>\n<text text-anchor=\"middle\" x=\"269\" y=\"-60.8\" font-family=\"Times,serif\" font-size=\"14.00\">a</text>\n</g>\n<!-- {1, 3, 5} -->\n<g id=\"node6\" class=\"node\">\n<title>{1, 3, 5}</title>\n<text text-anchor=\"middle\" x=\"479\" y=\"-41.3\" font-family=\"Times,serif\" font-size=\"14.00\">{1, 3, 5}</text>\n</g>\n<!-- {1, 2, 4}&#45;&gt;{1, 3, 5} -->\n<g id=\"edge9\" class=\"edge\">\n<title>{1, 2, 4}-&gt;{1, 3, 5}</title>\n<path fill=\"none\" stroke=\"black\" d=\"M401.24,-45C412.32,-45 424.97,-45 436.76,-45\"/>\n<polygon fill=\"black\" stroke=\"black\" points=\"436.83,-48.5 446.83,-45 436.83,-41.5 436.83,-48.5\"/>\n<text text-anchor=\"middle\" x=\"424\" y=\"-48.8\" font-family=\"Times,serif\" font-size=\"14.00\">b</text>\n</g>\n<!-- {1, 2, 4, 5, 6} -->\n<g id=\"node7\" class=\"node\">\n<title>{1, 2, 4, 5, 6}</title>\n<text text-anchor=\"middle\" x=\"606\" y=\"-98.3\" font-family=\"Times,serif\" font-size=\"14.00\">{1, 2, 4, 5, 6}</text>\n</g>\n<!-- {1, 3, 5}&#45;&gt;{1, 2, 4, 5, 6} -->\n<g id=\"edge10\" class=\"edge\">\n<title>{1, 3, 5}-&gt;{1, 2, 4, 5, 6}</title>\n<path fill=\"none\" stroke=\"black\" d=\"M511.22,-59.24C524.75,-65.41 540.92,-72.78 556,-79.65\"/>\n<polygon fill=\"black\" stroke=\"black\" points=\"554.65,-82.89 565.2,-83.85 557.56,-76.52 554.65,-82.89\"/>\n<text text-anchor=\"middle\" x=\"533.5\" y=\"-74.8\" font-family=\"Times,serif\" font-size=\"14.00\">a</text>\n</g>\n<!-- {1, 5} -->\n<g id=\"node8\" class=\"node\">\n<title>{1, 5}</title>\n<text text-anchor=\"middle\" x=\"1016\" y=\"-71.3\" font-family=\"Times,serif\" font-size=\"14.00\">{1, 5}</text>\n</g>\n<!-- {1, 3, 5}&#45;&gt;{1, 5} -->\n<g id=\"edge11\" class=\"edge\">\n<title>{1, 3, 5}-&gt;{1, 5}</title>\n<path fill=\"none\" stroke=\"black\" d=\"M511.19,-38.77C536.4,-34.28 572.84,-29 605,-29 605,-29 605,-29 871,-29 911.32,-29 955.11,-45.57 983.68,-58.82\"/>\n<polygon fill=\"black\" stroke=\"black\" points=\"982.23,-62 992.76,-63.15 985.24,-55.69 982.23,-62\"/>\n<text text-anchor=\"middle\" x=\"742\" y=\"-32.8\" font-family=\"Times,serif\" font-size=\"14.00\">b</text>\n</g>\n<!-- {1, 2, 5, 6} -->\n<g id=\"node9\" class=\"node\">\n<title>{1, 2, 5, 6}</title>\n<text text-anchor=\"middle\" x=\"742\" y=\"-98.3\" font-family=\"Times,serif\" font-size=\"14.00\">{1, 2, 5, 6}</text>\n</g>\n<!-- {1, 2, 4, 5, 6}&#45;&gt;{1, 2, 5, 6} -->\n<g id=\"edge12\" class=\"edge\">\n<title>{1, 2, 4, 5, 6}-&gt;{1, 2, 5, 6}</title>\n<path fill=\"none\" stroke=\"black\" d=\"M656.14,-102C667.34,-102 679.27,-102 690.54,-102\"/>\n<polygon fill=\"black\" stroke=\"black\" points=\"690.65,-105.5 700.65,-102 690.65,-98.5 690.65,-105.5\"/>\n<text text-anchor=\"middle\" x=\"678.5\" y=\"-105.8\" font-family=\"Times,serif\" font-size=\"14.00\">a</text>\n</g>\n<!-- {1, 3, 5, 7} -->\n<g id=\"node10\" class=\"node\">\n<title>{1, 3, 5, 7}</title>\n<text text-anchor=\"middle\" x=\"870\" y=\"-179.3\" font-family=\"Times,serif\" font-size=\"14.00\">{1, 3, 5, 7}</text>\n</g>\n<!-- {1, 2, 4, 5, 6}&#45;&gt;{1, 3, 5, 7} -->\n<g id=\"edge13\" class=\"edge\">\n<title>{1, 2, 4, 5, 6}-&gt;{1, 3, 5, 7}</title>\n<path fill=\"none\" stroke=\"black\" d=\"M629.05,-120.12C647.21,-133.99 674.23,-152.34 701,-162 738.96,-175.7 784.53,-180.74 818.62,-182.48\"/>\n<polygon fill=\"black\" stroke=\"black\" points=\"818.67,-185.98 828.81,-182.91 818.97,-178.99 818.67,-185.98\"/>\n<text text-anchor=\"middle\" x=\"742\" y=\"-182.8\" font-family=\"Times,serif\" font-size=\"14.00\">b</text>\n</g>\n<!-- {1, 5}&#45;&gt;{1, 5} -->\n<g id=\"edge29\" class=\"edge\">\n<title>{1, 5}-&gt;{1, 5}</title>\n<path fill=\"none\" stroke=\"black\" d=\"M1001.17,-93.15C998.88,-102.54 1003.83,-111 1016,-111 1023.42,-111 1028.15,-107.86 1030.2,-103.28\"/>\n<polygon fill=\"black\" stroke=\"black\" points=\"1033.7,-103.35 1030.83,-93.15 1026.72,-102.91 1033.7,-103.35\"/>\n<text text-anchor=\"middle\" x=\"1016\" y=\"-114.8\" font-family=\"Times,serif\" font-size=\"14.00\">b</text>\n</g>\n<!-- {1, 5}&#45;&gt;{1, 2, 5, 6} -->\n<g id=\"edge28\" class=\"edge\">\n<title>{1, 5}-&gt;{1, 2, 5, 6}</title>\n<path fill=\"none\" stroke=\"black\" d=\"M992.9,-76.13C958.01,-78.03 888.05,-82.32 829,-89 817.39,-90.31 804.95,-92.02 793.24,-93.76\"/>\n<polygon fill=\"black\" stroke=\"black\" points=\"792.53,-90.33 783.17,-95.29 793.58,-97.25 792.53,-90.33\"/>\n<text text-anchor=\"middle\" x=\"870\" y=\"-92.8\" font-family=\"Times,serif\" font-size=\"14.00\">a</text>\n</g>\n<!-- {1, 2, 5, 6}&#45;&gt;{1, 2, 5, 6} -->\n<g id=\"edge14\" class=\"edge\">\n<title>{1, 2, 5, 6}-&gt;{1, 2, 5, 6}</title>\n<path fill=\"none\" stroke=\"black\" d=\"M730.78,-120.15C729.06,-129.54 732.8,-138 742,-138 747.61,-138 751.19,-134.86 752.74,-130.28\"/>\n<polygon fill=\"black\" stroke=\"black\" points=\"756.24,-130.31 753.22,-120.15 749.25,-129.98 756.24,-130.31\"/>\n<text text-anchor=\"middle\" x=\"742\" y=\"-141.8\" font-family=\"Times,serif\" font-size=\"14.00\">a</text>\n</g>\n<!-- {1, 2, 5, 6}&#45;&gt;{1, 3, 5, 7} -->\n<g id=\"edge15\" class=\"edge\">\n<title>{1, 2, 5, 6}-&gt;{1, 3, 5, 7}</title>\n<path fill=\"none\" stroke=\"black\" d=\"M771.28,-120.18C789.27,-131.75 812.76,-146.85 832.2,-159.35\"/>\n<polygon fill=\"black\" stroke=\"black\" points=\"830.51,-162.42 840.82,-164.88 834.3,-156.53 830.51,-162.42\"/>\n<text text-anchor=\"middle\" x=\"806\" y=\"-147.8\" font-family=\"Times,serif\" font-size=\"14.00\">b</text>\n</g>\n<!-- {1, 3, 5, 7}&#45;&gt;{1, 5} -->\n<g id=\"edge17\" class=\"edge\">\n<title>{1, 3, 5, 7}-&gt;{1, 5}</title>\n<path fill=\"none\" stroke=\"black\" d=\"M895.1,-164.92C919.67,-146.5 957.84,-117.87 984.5,-97.88\"/>\n<polygon fill=\"black\" stroke=\"black\" points=\"986.81,-100.51 992.71,-91.71 982.61,-94.91 986.81,-100.51\"/>\n<text text-anchor=\"middle\" x=\"934\" y=\"-141.8\" font-family=\"Times,serif\" font-size=\"14.00\">b</text>\n</g>\n<!-- {1, 2, 4, 5, 6, 8} -->\n<g id=\"node11\" class=\"node\">\n<title>{1, 2, 4, 5, 6, 8}</title>\n<text text-anchor=\"middle\" x=\"1016\" y=\"-175.3\" font-family=\"Times,serif\" font-size=\"14.00\">{1, 2, 4, 5, 6, 8}</text>\n</g>\n<!-- {1, 3, 5, 7}&#45;&gt;{1, 2, 4, 5, 6, 8} -->\n<g id=\"edge16\" class=\"edge\">\n<title>{1, 3, 5, 7}-&gt;{1, 2, 4, 5, 6, 8}</title>\n<path fill=\"none\" stroke=\"black\" d=\"M911.11,-181.89C922.16,-181.58 934.47,-181.24 946.64,-180.9\"/>\n<polygon fill=\"black\" stroke=\"black\" points=\"946.9,-184.39 956.8,-180.62 946.71,-177.4 946.9,-184.39\"/>\n<text text-anchor=\"middle\" x=\"934\" y=\"-184.8\" font-family=\"Times,serif\" font-size=\"14.00\">a</text>\n</g>\n<!-- {1, 2, 4, 5, 6, 8}&#45;&gt;{1, 2, 5, 6} -->\n<g id=\"edge18\" class=\"edge\">\n<title>{1, 2, 4, 5, 6, 8}-&gt;{1, 2, 5, 6}</title>\n<path fill=\"none\" stroke=\"black\" d=\"M984.45,-160.81C970.91,-153.42 954.56,-145.38 939,-140 890.93,-123.38 833.58,-113.33 793.37,-107.78\"/>\n<polygon fill=\"black\" stroke=\"black\" points=\"793.66,-104.29 783.28,-106.43 792.73,-111.22 793.66,-104.29\"/>\n<text text-anchor=\"middle\" x=\"870\" y=\"-134.8\" font-family=\"Times,serif\" font-size=\"14.00\">a</text>\n</g>\n<!-- {1, 3, 5, 7, 9} -->\n<g id=\"node12\" class=\"node\">\n<title>{1, 3, 5, 7, 9}</title>\n<text text-anchor=\"middle\" x=\"1171\" y=\"-175.3\" font-family=\"Times,serif\" font-size=\"14.00\">{1, 3, 5, 7, 9}</text>\n</g>\n<!-- {1, 2, 4, 5, 6, 8}&#45;&gt;{1, 3, 5, 7, 9} -->\n<g id=\"edge19\" class=\"edge\">\n<title>{1, 2, 4, 5, 6, 8}-&gt;{1, 3, 5, 7, 9}</title>\n<path fill=\"none\" stroke=\"black\" d=\"M1075.28,-179C1086.91,-179 1099.13,-179 1110.79,-179\"/>\n<polygon fill=\"black\" stroke=\"black\" points=\"1110.85,-182.5 1120.85,-179 1110.85,-175.5 1110.85,-182.5\"/>\n<text text-anchor=\"middle\" x=\"1098\" y=\"-182.8\" font-family=\"Times,serif\" font-size=\"14.00\">b</text>\n</g>\n<!-- {1, 2, 4, 5, 6, 8, 9} -->\n<g id=\"node13\" class=\"node\">\n<title>{1, 2, 4, 5, 6, 8, 9}</title>\n<text text-anchor=\"middle\" x=\"1335\" y=\"-240.3\" font-family=\"Times,serif\" font-size=\"14.00\">{1, 2, 4, 5, 6, 8, 9}</text>\n</g>\n<!-- {1, 3, 5, 7, 9}&#45;&gt;{1, 2, 4, 5, 6, 8, 9} -->\n<g id=\"edge20\" class=\"edge\">\n<title>{1, 3, 5, 7, 9}-&gt;{1, 2, 4, 5, 6, 8, 9}</title>\n<path fill=\"none\" stroke=\"black\" d=\"M1191.59,-197.15C1204.21,-207.81 1221.47,-220.61 1239,-228 1244.76,-230.43 1250.87,-232.49 1257.1,-234.24\"/>\n<polygon fill=\"black\" stroke=\"black\" points=\"1256.4,-237.68 1266.96,-236.74 1258.12,-230.89 1256.4,-237.68\"/>\n<text text-anchor=\"middle\" x=\"1244\" y=\"-234.8\" font-family=\"Times,serif\" font-size=\"14.00\">a</text>\n</g>\n<!-- {1, 5, 9} -->\n<g id=\"node14\" class=\"node\">\n<title>{1, 5, 9}</title>\n<text text-anchor=\"middle\" x=\"1335\" y=\"-34.3\" font-family=\"Times,serif\" font-size=\"14.00\">{1, 5, 9}</text>\n</g>\n<!-- {1, 3, 5, 7, 9}&#45;&gt;{1, 5, 9} -->\n<g id=\"edge21\" class=\"edge\">\n<title>{1, 3, 5, 7, 9}-&gt;{1, 5, 9}</title>\n<path fill=\"none\" stroke=\"black\" d=\"M1192.85,-160.86C1221.52,-135.9 1273.24,-90.88 1305.48,-62.82\"/>\n<polygon fill=\"black\" stroke=\"black\" points=\"1307.99,-65.28 1313.23,-56.07 1303.39,-60 1307.99,-65.28\"/>\n<text text-anchor=\"middle\" x=\"1244\" y=\"-119.8\" font-family=\"Times,serif\" font-size=\"14.00\">b</text>\n</g>\n<!-- exit3 -->\n<g id=\"node19\" class=\"node\">\n<title>exit3</title>\n<text text-anchor=\"middle\" x=\"1335\" y=\"-121.3\" font-family=\"Times,serif\" font-size=\"14.00\" fill=\"white\">exit3</text>\n</g>\n<!-- {1, 3, 5, 7, 9}&#45;&gt;exit3 -->\n<g id=\"edge33\" class=\"edge\">\n<title>{1, 3, 5, 7, 9}-&gt;exit3</title>\n<path fill=\"none\" stroke=\"black\" d=\"M1221.04,-162.65C1249.11,-153.3 1283.28,-141.91 1306.64,-134.12\"/>\n<polygon fill=\"black\" stroke=\"black\" points=\"1307.86,-137.4 1316.24,-130.92 1305.65,-130.76 1307.86,-137.4\"/>\n</g>\n<!-- {1, 2, 4, 5, 6, 8, 9}&#45;&gt;{1, 3, 5, 7, 9} -->\n<g id=\"edge23\" class=\"edge\">\n<title>{1, 2, 4, 5, 6, 8, 9}-&gt;{1, 3, 5, 7, 9}</title>\n<path fill=\"none\" stroke=\"black\" d=\"M1290.39,-225.85C1277.12,-220.38 1262.48,-214.4 1249,-209 1242.32,-206.32 1235.29,-203.54 1228.32,-200.8\"/>\n<polygon fill=\"black\" stroke=\"black\" points=\"1229.47,-197.49 1218.88,-197.1 1226.92,-204.01 1229.47,-197.49\"/>\n<text text-anchor=\"middle\" x=\"1244\" y=\"-212.8\" font-family=\"Times,serif\" font-size=\"14.00\">b</text>\n</g>\n<!-- {1, 2, 5, 6, 9} -->\n<g id=\"node15\" class=\"node\">\n<title>{1, 2, 5, 6, 9}</title>\n<text text-anchor=\"middle\" x=\"1498\" y=\"-161.3\" font-family=\"Times,serif\" font-size=\"14.00\">{1, 2, 5, 6, 9}</text>\n</g>\n<!-- {1, 2, 4, 5, 6, 8, 9}&#45;&gt;{1, 2, 5, 6, 9} -->\n<g id=\"edge22\" class=\"edge\">\n<title>{1, 2, 4, 5, 6, 8, 9}-&gt;{1, 2, 5, 6, 9}</title>\n<path fill=\"none\" stroke=\"black\" d=\"M1372.94,-225.88C1396.15,-214.48 1426.28,-199.7 1451.04,-187.55\"/>\n<polygon fill=\"black\" stroke=\"black\" points=\"1452.8,-190.59 1460.24,-183.04 1449.72,-184.3 1452.8,-190.59\"/>\n<text text-anchor=\"middle\" x=\"1425.5\" y=\"-205.8\" font-family=\"Times,serif\" font-size=\"14.00\">a</text>\n</g>\n<!-- exit0 -->\n<g id=\"node16\" class=\"node\">\n<title>exit0</title>\n<text text-anchor=\"middle\" x=\"1498\" y=\"-248.3\" font-family=\"Times,serif\" font-size=\"14.00\" fill=\"white\">exit0</text>\n</g>\n<!-- {1, 2, 4, 5, 6, 8, 9}&#45;&gt;exit0 -->\n<g id=\"edge30\" class=\"edge\">\n<title>{1, 2, 4, 5, 6, 8, 9}-&gt;exit0</title>\n<path fill=\"none\" stroke=\"black\" d=\"M1403.35,-247.35C1426.43,-248.49 1451,-249.71 1469.18,-250.62\"/>\n<polygon fill=\"black\" stroke=\"black\" points=\"1469.18,-254.12 1479.34,-251.12 1469.53,-247.13 1469.18,-254.12\"/>\n</g>\n<!-- {1, 5, 9}&#45;&gt;{1, 5, 9} -->\n<g id=\"edge27\" class=\"edge\">\n<title>{1, 5, 9}-&gt;{1, 5, 9}</title>\n<path fill=\"none\" stroke=\"black\" d=\"M1318.72,-56.15C1316.21,-65.54 1321.64,-74 1335,-74 1343.14,-74 1348.34,-70.86 1350.59,-66.28\"/>\n<polygon fill=\"black\" stroke=\"black\" points=\"1354.09,-66.37 1351.28,-56.15 1347.1,-65.89 1354.09,-66.37\"/>\n<text text-anchor=\"middle\" x=\"1335\" y=\"-77.8\" font-family=\"Times,serif\" font-size=\"14.00\">b</text>\n</g>\n<!-- {1, 5, 9}&#45;&gt;{1, 2, 5, 6, 9} -->\n<g id=\"edge26\" class=\"edge\">\n<title>{1, 5, 9}-&gt;{1, 2, 5, 6, 9}</title>\n<path fill=\"none\" stroke=\"black\" d=\"M1359.07,-56.2C1387.16,-78.36 1434.73,-115.88 1466.01,-140.55\"/>\n<polygon fill=\"black\" stroke=\"black\" points=\"1463.96,-143.39 1473.98,-146.84 1468.29,-137.9 1463.96,-143.39\"/>\n<text text-anchor=\"middle\" x=\"1425.5\" y=\"-112.8\" font-family=\"Times,serif\" font-size=\"14.00\">a</text>\n</g>\n<!-- exit2 -->\n<g id=\"node18\" class=\"node\">\n<title>exit2</title>\n<text text-anchor=\"middle\" x=\"1498\" y=\"-34.3\" font-family=\"Times,serif\" font-size=\"14.00\" fill=\"white\">exit2</text>\n</g>\n<!-- {1, 5, 9}&#45;&gt;exit2 -->\n<g id=\"edge32\" class=\"edge\">\n<title>{1, 5, 9}-&gt;exit2</title>\n<path fill=\"none\" stroke=\"black\" d=\"M1367.04,-38C1396.7,-38 1440.97,-38 1469.42,-38\"/>\n<polygon fill=\"black\" stroke=\"black\" points=\"1469.48,-41.5 1479.48,-38 1469.48,-34.5 1469.48,-41.5\"/>\n</g>\n<!-- {1, 2, 5, 6, 9}&#45;&gt;{1, 3, 5, 7, 9} -->\n<g id=\"edge25\" class=\"edge\">\n<title>{1, 2, 5, 6, 9}-&gt;{1, 3, 5, 7, 9}</title>\n<path fill=\"none\" stroke=\"black\" d=\"M1447.86,-167.12C1389.77,-169.62 1293.15,-173.78 1231.05,-176.46\"/>\n<polygon fill=\"black\" stroke=\"black\" points=\"1230.85,-172.96 1221.01,-176.89 1231.15,-179.96 1230.85,-172.96\"/>\n<text text-anchor=\"middle\" x=\"1335\" y=\"-177.8\" font-family=\"Times,serif\" font-size=\"14.00\">b</text>\n</g>\n<!-- {1, 2, 5, 6, 9}&#45;&gt;{1, 2, 5, 6, 9} -->\n<g id=\"edge24\" class=\"edge\">\n<title>{1, 2, 5, 6, 9}-&gt;{1, 2, 5, 6, 9}</title>\n<path fill=\"none\" stroke=\"black\" d=\"M1485.7,-183.15C1483.81,-192.54 1487.91,-201 1498,-201 1504.15,-201 1508.08,-197.86 1509.78,-193.28\"/>\n<polygon fill=\"black\" stroke=\"black\" points=\"1513.28,-193.32 1510.3,-183.15 1506.29,-192.96 1513.28,-193.32\"/>\n<text text-anchor=\"middle\" x=\"1498\" y=\"-204.8\" font-family=\"Times,serif\" font-size=\"14.00\">a</text>\n</g>\n<!-- exit1 -->\n<g id=\"node17\" class=\"node\">\n<title>exit1</title>\n<text text-anchor=\"middle\" x=\"1603.5\" y=\"-161.3\" font-family=\"Times,serif\" font-size=\"14.00\" fill=\"white\">exit1</text>\n</g>\n<!-- {1, 2, 5, 6, 9}&#45;&gt;exit1 -->\n<g id=\"edge31\" class=\"edge\">\n<title>{1, 2, 5, 6, 9}-&gt;exit1</title>\n<path fill=\"none\" stroke=\"black\" d=\"M1548.02,-165C1557.18,-165 1566.45,-165 1574.68,-165\"/>\n<polygon fill=\"black\" stroke=\"black\" points=\"1574.81,-168.5 1584.81,-165 1574.81,-161.5 1574.81,-168.5\"/>\n</g>\n</g>\n</svg>"
     },
     "metadata": {}
    }
   ],
   "source": [
    "from IPython.display import SVG, display\n",
    "display(SVG(filename=\"./graph.svg\"))"
   ]
  },
  {
   "cell_type": "code",
   "execution_count": null,
   "metadata": {},
   "outputs": [],
   "source": []
  }
 ],
 "metadata": {
  "kernelspec": {
   "display_name": "Python 3",
   "language": "python",
   "name": "python3"
  },
  "language_info": {
   "codemirror_mode": {
    "name": "ipython",
    "version": 3
   },
   "file_extension": ".py",
   "mimetype": "text/x-python",
   "name": "python",
   "nbconvert_exporter": "python",
   "pygments_lexer": "ipython3",
   "version": "3.9.1-final"
  }
 },
 "nbformat": 4,
 "nbformat_minor": 4
}